{
 "cells": [
  {
   "cell_type": "code",
   "execution_count": 17,
   "id": "bd15a2ee-5cc4-4cd3-9e8f-729d90fda8b0",
   "metadata": {
    "tags": []
   },
   "outputs": [
    {
     "data": {
      "text/plain": [
       "True"
      ]
     },
     "execution_count": 17,
     "metadata": {},
     "output_type": "execute_result"
    }
   ],
   "source": [
    "import webbrowser\n",
    "\n",
    "url = \"https://kiki.ccu.edu.tw/~ccmisp06/cgi-bin/class_new/index.php?e=0&m=0\"\n",
    "webbrowser.open(url)"
   ]
  },
  {
   "cell_type": "code",
   "execution_count": 3,
   "id": "d4151e9c-b708-4cb0-9a5e-fa4f9bde4b46",
   "metadata": {
    "tags": []
   },
   "outputs": [],
   "source": [
    "from bs4 import BeautifulSoup\n",
    "import requests\n",
    "from selenium import webdriver\n",
    "from selenium.webdriver.chrome.options import Options\n",
    "from selenium.webdriver.common.by import By\n",
    "import time\n",
    "import json\n",
    "from datetime import datetime"
   ]
  },
  {
   "cell_type": "code",
   "execution_count": 7,
   "id": "c509b9ca-6827-4c29-b962-40dc2012034c",
   "metadata": {
    "tags": []
   },
   "outputs": [],
   "source": [
    "chrome_options = Options()\n",
    "chrome_options.add_argument('--headless') \n",
    "chrome_options.add_argument('--disable-gpu')  #Avoid Bug\n",
    "\n",
    "chrome_path = \"/Applications/Chrome.app/Contents/MacOS/Google Chrome\"  \n",
    "\n",
    "driver = webdriver.Chrome()\n",
    "\n",
    "# 打开网站\n",
    "url = \"https://kiki.ccu.edu.tw/~ccmisp06/cgi-bin/class_new/login.php?m=0\"\n",
    "driver.get(url)\n",
    "\n",
    "new_id = input(\"Enter your ID: \")\n",
    "new_password = input(\"Enter your password: \")\n",
    "\n",
    "input_id = driver.find_element(By.NAME, 'id')\n",
    "input_id.send_keys(new_id)\n",
    "input_password = driver.find_element(By.ID, 'password')\n",
    "input_password.send_keys(new_password)"
   ]
  },
  {
   "cell_type": "code",
   "execution_count": 4,
   "id": "e260dec1-2916-4633-90a2-323863aa000b",
   "metadata": {
    "tags": []
   },
   "outputs": [
    {
     "name": "stdout",
     "output_type": "stream",
     "text": [
      "0\n",
      "0\n",
      "Exception occurred. Retrying...\n"
     ]
    }
   ],
   "source": [
    "chrome_options = Options()\n",
    "chrome_options.add_argument('--headless')\n",
    "chrome_options.add_argument('--disable-gpu')\n",
    "\n",
    "chrome_path = \"/Applications/Chrome.app/Contents/MacOS/Google Chrome\"  \n",
    "driver = webdriver.Chrome()\n",
    "\n",
    "# https://kiki.ccu.edu.tw/~ccmisp06/cgi-bin/class_new/Add_Course00.cgi?session_id=\n",
    "session_id = input(\"Section ID = \")\n",
    "url = \"https://kiki.ccu.edu.tw/~ccmisp06/cgi-bin/class_new/Add_Course01.cgi?session_id=\" + session_id + \"&use_cge_new_cate=1&m=0&dept=4104&grade=3\"\n",
    "driver.get(url)\n",
    "\n",
    "while True:\n",
    "    try:\n",
    "        element = driver.find_element(By.XPATH ,\"/html/body/center/form/table/tbody/tr[1]/th/table/tbody/tr[10]/th[3]\")\n",
    "        if int(element.text) >= 1:\n",
    "            checkbox = driver.find_element(By.XPATH, \"/html/body/center/form/table/tbody/tr[1]/th/table/tbody/tr[9]/th[1]/input\")\n",
    "            checkbox.click()\n",
    "            checkbox = driver.find_element(By.XPATH, \"/html/body/center/form/table/tbody/tr[2]/th/input\")\n",
    "            checkbox.click()\n",
    "            break\n",
    "        else:\n",
    "            print(element.text)\n",
    "            driver.refresh()\n",
    "            time.sleep(10)\n",
    "    except:\n",
    "        print(\"Exception occurred. Retrying...\")\n",
    "        driver.quit()\n",
    "        break\n",
    "\n",
    "# 关闭浏览器\n",
    "driver.quit()"
   ]
  },
  {
   "cell_type": "code",
   "execution_count": null,
   "id": "116a330a-0651-4637-90c1-024618201f43",
   "metadata": {
    "tags": []
   },
   "outputs": [
    {
     "name": "stdout",
     "output_type": "stream",
     "text": [
      "0\n",
      "0\n",
      "0\n",
      "0\n",
      "0\n",
      "0\n",
      "0\n",
      "0\n",
      "0\n",
      "0\n",
      "0\n",
      "0\n",
      "0\n",
      "0\n",
      "0\n",
      "0\n",
      "0\n",
      "0\n",
      "0\n",
      "0\n",
      "0\n",
      "0\n",
      "0\n",
      "0\n",
      "0\n",
      "0\n",
      "0\n",
      "0\n",
      "0\n",
      "0\n",
      "0\n",
      "0\n",
      "0\n",
      "0\n",
      "0\n",
      "0\n",
      "0\n",
      "0\n",
      "0\n",
      "0\n",
      "0\n",
      "0\n",
      "0\n",
      "0\n",
      "0\n",
      "0\n",
      "0\n",
      "0\n",
      "0\n",
      "0\n",
      "0\n",
      "0\n",
      "0\n",
      "0\n",
      "0\n",
      "0\n",
      "0\n",
      "0\n",
      "0\n",
      "0\n",
      "0\n",
      "0\n",
      "0\n",
      "0\n",
      "0\n",
      "0\n",
      "0\n",
      "0\n",
      "0\n"
     ]
    }
   ],
   "source": [
    "chrome_options = Options()\n",
    "chrome_options.add_argument('--headless')\n",
    "chrome_options.add_argument('--disable-gpu')\n",
    "\n",
    "chrome_path = \"/Applications/Chrome.app/Contents/MacOS/Google Chrome\"  \n",
    "driver = webdriver.Chrome()\n",
    "\n",
    "session_id = input(\"Section ID = \")\n",
    "url = \"https://kiki.ccu.edu.tw/~ccmisp06/cgi-bin/class_new/Add_Course01.cgi?session_id=\" + session_id + \"&use_cge_new_cate=1&m=0&dept=V000&grade=1\"\n",
    "driver.get(url)\n",
    "\n",
    "while True:\n",
    "    try:\n",
    "        element = driver.find_element(By.XPATH ,\"/html/body/center/form/table/tbody/tr[1]/th/table/tbody/tr[3]/th[3]\")\n",
    "        if int(element.text) >= 1:\n",
    "            checkbox = driver.find_element(By.XPATH, \"/html/body/center/form/table/tbody/tr[1]/th/table/tbody/tr[3]/th[1]/input\")\n",
    "            checkbox.click()\n",
    "            checkbox = driver.find_element(By.XPATH, \"/html/body/center/form/table/tbody/tr[2]/th/input\")\n",
    "            checkbox.click()\n",
    "            print(\"SUCCESS!!\")\n",
    "            break\n",
    "        else:\n",
    "            print(element.text)\n",
    "            driver.refresh()\n",
    "            time.sleep(10)\n",
    "    except:\n",
    "        print(\"Exception occurred. Retrying...\")\n",
    "        driver.quit()\n",
    "        break\n",
    "\n",
    "driver.quit()"
   ]
  }
 ],
 "metadata": {
  "kernelspec": {
   "display_name": "Python 3 (ipykernel)",
   "language": "python",
   "name": "python3"
  },
  "language_info": {
   "codemirror_mode": {
    "name": "ipython",
    "version": 3
   },
   "file_extension": ".py",
   "mimetype": "text/x-python",
   "name": "python",
   "nbconvert_exporter": "python",
   "pygments_lexer": "ipython3",
   "version": "3.10.9"
  }
 },
 "nbformat": 4,
 "nbformat_minor": 5
}
